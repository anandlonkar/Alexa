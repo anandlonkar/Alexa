{
 "cells": [
  {
   "cell_type": "code",
   "execution_count": 1,
   "metadata": {},
   "outputs": [],
   "source": [
    "from selenium import webdriver\n",
    "from bs4 import BeautifulSoup\n",
    "import pandas as pd\n",
    "from selenium.webdriver.chrome.options import Options \n",
    "from selenium.webdriver.support.ui import WebDriverWait\n",
    "from selenium.webdriver.support import expected_conditions as EC\n",
    "from selenium.webdriver.common.by import By\n",
    "from selenium.common.exceptions import TimeoutException"
   ]
  },
  {
   "cell_type": "code",
   "execution_count": 2,
   "metadata": {},
   "outputs": [],
   "source": [
    "#chrome_options = Options()  \n",
    "#chrome_options.add_argument(\"--headless\") \n",
    "#driver = webdriver.Chrome(\"C:\\\\Users\\\\anand\\\\OneDrive\\\\Projects\\\\SchoolCafe\\\\chromedriver.exe\",   options=chrome_options)"
   ]
  },
  {
   "cell_type": "code",
   "execution_count": 3,
   "metadata": {},
   "outputs": [],
   "source": [
    "driver = webdriver.Chrome(\"C:\\\\Users\\\\anand\\\\OneDrive\\\\Projects\\\\SchoolCafe\\\\chromedriver.exe\")"
   ]
  },
  {
   "cell_type": "code",
   "execution_count": 4,
   "metadata": {},
   "outputs": [],
   "source": [
    "driver.get(\"https://www.schoolcafe.com/menus/0\")\n"
   ]
  },
  {
   "cell_type": "code",
   "execution_count": 5,
   "metadata": {},
   "outputs": [],
   "source": [
    "content = driver.page_source\n",
    "soup = BeautifulSoup(content)"
   ]
  },
  {
   "cell_type": "code",
   "execution_count": 6,
   "metadata": {},
   "outputs": [],
   "source": [
    "statebox = '//*[@id=\"mat-select-1\"]/div/div[2]/div'"
   ]
  },
  {
   "cell_type": "code",
   "execution_count": 7,
   "metadata": {},
   "outputs": [],
   "source": [
    "driver.find_element_by_xpath(statebox).click() #send_keys(\"Texas\")"
   ]
  },
  {
   "cell_type": "code",
   "execution_count": 8,
   "metadata": {},
   "outputs": [],
   "source": [
    "statename = '//*[@id=\"mat-option-50\"]/span'\n",
    "driver.find_element_by_xpath(statename).click() #send_keys(\"Texas\")"
   ]
  },
  {
   "cell_type": "code",
   "execution_count": 9,
   "metadata": {},
   "outputs": [],
   "source": [
    "ISDname = '//*[@id=\"schoolDistrictKey\"]/div/div[1]/div'\n",
    "driver.find_element_by_xpath(ISDname).click() #send_keys(\"FRISCOISD\")"
   ]
  },
  {
   "cell_type": "code",
   "execution_count": 10,
   "metadata": {},
   "outputs": [],
   "source": [
    "ISDname='//*[@id=\"mat-input-2\"]'\n",
    "driver.find_element_by_xpath(ISDname).send_keys(\"FRISCO ISD\")\n"
   ]
  },
  {
   "cell_type": "code",
   "execution_count": 11,
   "metadata": {},
   "outputs": [],
   "source": [
    "#//*[@id=\"mat-option-104\"]/span[text()='Settings']"
   ]
  },
  {
   "cell_type": "code",
   "execution_count": 12,
   "metadata": {},
   "outputs": [
    {
     "name": "stdout",
     "output_type": "stream",
     "text": [
      "Page is ready!\n"
     ]
    }
   ],
   "source": [
    "delay = 4\n",
    "myElem = WebDriverWait(driver, delay).until(EC.presence_of_element_located((By.CSS_SELECTOR, 'span.mat-option-text')))\n",
    "print(\"Page is ready!\")"
   ]
  },
  {
   "cell_type": "code",
   "execution_count": 13,
   "metadata": {},
   "outputs": [],
   "source": [
    "ISDname = '//*[@id=\"mat-option-58\"]'\n",
    "ISDname ='span.mat-option-text'\n",
    "\n",
    "#driver.find_element_by_xpath(ISDname).click() \n",
    "driver.find_element_by_css_selector(ISDname).click() "
   ]
  },
  {
   "cell_type": "code",
   "execution_count": 14,
   "metadata": {},
   "outputs": [],
   "source": [
    "gotodistrict = '//*[@id=\"goToDistrict\"]'\n",
    "driver.find_element_by_xpath(gotodistrict).click() "
   ]
  },
  {
   "cell_type": "code",
   "execution_count": 15,
   "metadata": {},
   "outputs": [],
   "source": [
    "gotomenu = '//*[@id=\"myDistrictPage\"]/div[2]/div/div[2]/div/div/div/div[1]/button[3]'\n",
    "#driver.find_element_by_xpath(gotomenu).click() "
   ]
  },
  {
   "cell_type": "code",
   "execution_count": 16,
   "metadata": {},
   "outputs": [
    {
     "name": "stdout",
     "output_type": "stream",
     "text": [
      "Page is ready!\n"
     ]
    }
   ],
   "source": [
    "delay = 4\n",
    "myElem = WebDriverWait(driver, delay).until(EC.presence_of_element_located((By.XPATH , \"//*[contains(text(), ' View Menus (as a guest)')]\")))\n",
    "print(\"Page is ready!\")"
   ]
  },
  {
   "cell_type": "code",
   "execution_count": 17,
   "metadata": {},
   "outputs": [],
   "source": [
    "#gotomenu =\n",
    "\n",
    "driver.find_element_by_xpath(\"//*[contains(text(), ' View Menus (as a guest)')]\").click()"
   ]
  },
  {
   "cell_type": "code",
   "execution_count": 18,
   "metadata": {},
   "outputs": [
    {
     "name": "stdout",
     "output_type": "stream",
     "text": [
      "Page is ready!\n"
     ]
    }
   ],
   "source": [
    "delay = 4\n",
    "myElem = WebDriverWait(driver, delay).until(EC.presence_of_element_located((By.XPATH , '//*[@id=\"mat-select-5\"]/div/div[1]/span')))\n",
    "print(\"Page is ready!\")"
   ]
  },
  {
   "cell_type": "code",
   "execution_count": null,
   "metadata": {},
   "outputs": [],
   "source": []
  },
  {
   "cell_type": "code",
   "execution_count": 19,
   "metadata": {},
   "outputs": [],
   "source": [
    "selectschool1 = '//*[@id=\"mat-select-5\"]/div/div[1]/span'\n",
    "driver.find_element_by_xpath(selectschool1).click() "
   ]
  },
  {
   "cell_type": "code",
   "execution_count": 20,
   "metadata": {
    "scrolled": true
   },
   "outputs": [],
   "source": [
    "selectschool2 = \"//*[contains(text(), 'McSpedden ES')]\"\n",
    "delay = 4\n",
    "myElem = WebDriverWait(driver, delay).until(EC.element_to_be_clickable((By.XPATH ,selectschool2)))\n",
    "driver.find_element_by_xpath(selectschool2).click() \n"
   ]
  },
  {
   "cell_type": "code",
   "execution_count": 21,
   "metadata": {},
   "outputs": [],
   "source": [
    "\"#mat-tab-content-0-0 > div > div > button:nth-child(1) > span\"\n",
    "\n",
    "driver.find_element_by_css_selector('button.mat-mini-fab').click()\n",
    "driver.find_element_by_css_selector('button.mat-mini-fab').click()\n"
   ]
  },
  {
   "cell_type": "code",
   "execution_count": 22,
   "metadata": {},
   "outputs": [],
   "source": [
    "#selectschool2 = '//*[@id=\"mat-option-105\"]'\n",
    "#driver.find_element_by_xpath(selectschool2).click() "
   ]
  },
  {
   "cell_type": "code",
   "execution_count": 23,
   "metadata": {},
   "outputs": [],
   "source": [
    "selectduration = '//*[@id=\"mat-tab-label-0-1\"]'\n",
    "driver.find_element_by_xpath(selectduration).click()"
   ]
  },
  {
   "cell_type": "code",
   "execution_count": 24,
   "metadata": {},
   "outputs": [
    {
     "name": "stdout",
     "output_type": "stream",
     "text": [
      "Page is ready!\n"
     ]
    }
   ],
   "source": [
    "delay = 4\n",
    "myElem = WebDriverWait(driver, delay).until(EC.presence_of_element_located((By.TAG_NAME, 'mat-checkbox')))\n",
    "print(\"Page is ready!\")"
   ]
  },
  {
   "cell_type": "code",
   "execution_count": 25,
   "metadata": {},
   "outputs": [
    {
     "name": "stdout",
     "output_type": "stream",
     "text": [
      "6\n",
      "ENTREE\n",
      "GRAIN\n",
      "VEGETABLE\n",
      "FRUIT\n",
      "MILK\n",
      "CONDIMENTS\n"
     ]
    }
   ],
   "source": [
    "foodclass = driver.find_elements_by_class_name('mat-checkbox-layout')\n",
    "foodclass = driver.find_elements_by_tag_name('mat-checkbox')\n",
    "print(len(foodclass))\n",
    "foodclass[0].click()\n",
    "for checkbox in foodclass:\n",
    "        print(checkbox.text)\n",
    "        checkbox.click()\n",
    "        "
   ]
  },
  {
   "cell_type": "code",
   "execution_count": 26,
   "metadata": {},
   "outputs": [],
   "source": [
    "days = driver.find_element_by_class_name('calendar')"
   ]
  },
  {
   "cell_type": "code",
   "execution_count": 27,
   "metadata": {},
   "outputs": [
    {
     "name": "stdout",
     "output_type": "stream",
     "text": [
      "5\n"
     ]
    }
   ],
   "source": [
    "datesList =days.find_elements_by_css_selector('div.title.ng-star-inserted')\n",
    "print(len(datesList))"
   ]
  },
  {
   "cell_type": "code",
   "execution_count": 28,
   "metadata": {},
   "outputs": [
    {
     "name": "stdout",
     "output_type": "stream",
     "text": [
      "09\n",
      "Monday\n",
      "10\n",
      "Tuesday\n",
      "11\n",
      "Wednesday\n",
      "12\n",
      "Thursday\n",
      "13\n",
      "Friday\n"
     ]
    }
   ],
   "source": [
    "for date in datesList:\n",
    "    print(date.text)\n",
    "    #Entrees = item.find_elements_by_tag_name('div')\n",
    "    #print(len(Entrees))\n",
    "    #for entree in Entrees:\n",
    "    #    print(entree.text)\n",
    "    \n"
   ]
  },
  {
   "cell_type": "code",
   "execution_count": 29,
   "metadata": {},
   "outputs": [
    {
     "name": "stdout",
     "output_type": "stream",
     "text": [
      "2019-12-09 00:00:00\n",
      "12/10/2019\n"
     ]
    }
   ],
   "source": [
    "WeekDates = driver.find_element_by_css_selector('div.weekly-dates').text\n",
    "\n",
    "L = WeekDates.split('-')\n",
    "\n",
    "startdate = L[0].strip()\n",
    "\n",
    "#from datetime import datetime\n",
    "\n",
    "#datetime_object = datetime.strptime('Jun 1 2005  1:33PM', '%b %d %Y %I:%M%p')\n",
    "#datetime_object = datetime.strptime(startdate, '%b %d %Y')\n",
    "#modified_date = datetime_object + datetime.timedelta(days=1)\n",
    "#print(datetime_object + datetime.timedelta(days=1))\n",
    "\n",
    "import datetime\n",
    "start_date = datetime.datetime.strptime(startdate, \"%b %d %Y\")\n",
    "\n",
    "print(start_date)\n",
    "end_date = start_date + datetime.timedelta(days=1)\n",
    "print(end_date.strftime('%m/%d/%Y'))"
   ]
  },
  {
   "cell_type": "code",
   "execution_count": 30,
   "metadata": {},
   "outputs": [],
   "source": [
    "#Initialize database conection \n",
    "import mysql.connector\n",
    "\n",
    "cnx = mysql.connector.connect(user='admin', password='schoolcafe',\n",
    "                              host='anand-lonkar.mynetgear.com',\n",
    "                              database='menudb')\n",
    "cursor = cnx.cursor()"
   ]
  },
  {
   "cell_type": "code",
   "execution_count": 31,
   "metadata": {},
   "outputs": [
    {
     "name": "stdout",
     "output_type": "stream",
     "text": [
      "2019-12-09 00:00:00\n",
      "6\n",
      "Brown Rice\n",
      "2019-12-10 00:00:00\n",
      "6\n",
      "A menu has not been published for this day.\n",
      "2019-12-11 00:00:00\n",
      "6\n",
      "A menu has not been published for this day.\n",
      "2019-12-12 00:00:00\n",
      "6\n",
      "Whole Grain Cheesy Garlic Breadstick\n",
      "2019-12-13 00:00:00\n",
      "6\n",
      "A menu has not been published for this day.\n"
     ]
    }
   ],
   "source": [
    "\n",
    "\n",
    "menuitems = days.find_elements_by_css_selector('div.content.ng-star-inserted')\n",
    "count=0\n",
    "for item in menuitems:\n",
    "    print(start_date + datetime.timedelta(days=count))\n",
    "    menu_date = start_date + datetime.timedelta(days=count)\n",
    "    \n",
    "    formatted_date = menu_date.strftime('%Y-%m-%d')\n",
    "    \n",
    "    count= count + 1\n",
    "    \n",
    "    categories = item.find_elements_by_css_selector('div.ng-star-inserted')\n",
    "    \n",
    "    print(len(categories))\n",
    "    #Entree\n",
    "    categoryname = categories[0].find_elements_by_css_selector('ul.menu-item-list.ng-star-inserted')\n",
    "    categoryText = categoryname[0].text.splitlines()[0]\n",
    "    newline = '\\n'\n",
    "    entree = categoryname[0].text.replace(categoryText+newline,'')\n",
    "    entree =  entree.replace('\\n',',')\n",
    "    #print(entree)\n",
    "    \n",
    "    #grain\n",
    "    categoryname = categories[1].find_elements_by_css_selector('ul.menu-item-list.ng-star-inserted')\n",
    "    categoryText = categoryname[0].text.splitlines()[0]\n",
    "    newline = '\\n'\n",
    "    grains = categoryname[0].text.replace(categoryText+newline,'')\n",
    "    grains =  grains.replace('\\n',',')\n",
    "    print(grains)\n",
    "    \n",
    "    #meats\n",
    "    categoryname = categories[2].find_elements_by_css_selector('ul.menu-item-list.ng-star-inserted')\n",
    "    categoryText = categoryname[0].text.splitlines()[0]\n",
    "    newline = '\\n'\n",
    "    meats = categoryname[0].text.replace(categoryText+newline,'')\n",
    "    meats = meats.replace('\\n',',')\n",
    "    #print(categoryText)\n",
    "    \n",
    "    #fruits\n",
    "    categoryname = categories[3].find_elements_by_css_selector('ul.menu-item-list.ng-star-inserted')\n",
    "    categoryText = categoryname[0].text.splitlines()[0]\n",
    "    newline = '\\n'\n",
    "    fruits = categoryname[0].text.replace(categoryText+newline,'')\n",
    "    fruits = fruits.replace('\\n',',')\n",
    "    #print(fruits)\n",
    "    \n",
    "     #condiments\n",
    "    categoryname = categories[4].find_elements_by_css_selector('ul.menu-item-list.ng-star-inserted')\n",
    "    categoryText = categoryname[0].text.splitlines()[0]\n",
    "    newline = '\\n'\n",
    "    milk = categoryname[0].text.replace(categoryText+newline,'')\n",
    "    milk = milk.replace('\\n',',')\n",
    "    #print(milk)\n",
    "    \n",
    "    #meats\n",
    "    categoryname = categories[5].find_elements_by_css_selector('ul.menu-item-list.ng-star-inserted')\n",
    "    categoryText = categoryname[0].text.splitlines()[0]\n",
    "    newline = '\\n'\n",
    "    condiments = categoryname[0].text.replace(categoryText+newline,'')\n",
    "    condiments = condiments.replace('\\n',',')\n",
    "    #print(condiments)\n",
    "    \n",
    "    menuitems = (formatted_date,entree,fruits,grains,milk,condiments,meats)\n",
    "    \n",
    "    query = \"\"\"\n",
    "        INSERT INTO menudb.menu_table(State,ISDName,SchoolName,Date,FoodType,Entree,Fruit,Grain,Milk,Condiments,Meats)\n",
    "        VALUES\n",
    "        ('TX','FRISCO ISD','McSpedden Elementary',%s,'Lunch',%s,%s,%s,%s,%s,%s)\n",
    "        \"\"\"\n",
    "    \n",
    "    #print(query)\n",
    "    cursor.execute(query,menuitems)\n",
    "\n",
    "cnx.commit()\n",
    "cursor.close()\n",
    "cnx.close()\n",
    "        "
   ]
  },
  {
   "cell_type": "code",
   "execution_count": 32,
   "metadata": {},
   "outputs": [],
   "source": [
    "query = (\"\"\"\n",
    "        INSERT INTO menudb.menu_table\n",
    "        (\n",
    "        State,\n",
    "        ISDName,\n",
    "        SchoolName,\n",
    "        Date,\n",
    "        FoodType,\n",
    "        Entree,\n",
    "        Vegetables,\n",
    "        Grain,\n",
    "        Milk,\n",
    "        Condiments,\n",
    "        Meats)\n",
    "        VALUES\n",
    "        (\n",
    "        'TX',\n",
    "        'FRISCO ISD',\n",
    "        'McSpedden Elementary',\n",
    "        %s\n",
    "        'Lunch',\n",
    "        %s,\n",
    "        %s,\n",
    "        %s,\n",
    "        %s,\n",
    "        %s,\n",
    "        %s)\n",
    "        \"\"\",(start_date + datetime.timedelta(days=count),))"
   ]
  }
 ],
 "metadata": {
  "kernelspec": {
   "display_name": "Python 3",
   "language": "python",
   "name": "python3"
  },
  "language_info": {
   "codemirror_mode": {
    "name": "ipython",
    "version": 3
   },
   "file_extension": ".py",
   "mimetype": "text/x-python",
   "name": "python",
   "nbconvert_exporter": "python",
   "pygments_lexer": "ipython3",
   "version": "3.6.9"
  }
 },
 "nbformat": 4,
 "nbformat_minor": 2
}
