{
 "cells": [
  {
   "cell_type": "code",
   "execution_count": 18,
   "metadata": {},
   "outputs": [],
   "source": [
    "import mysql.connector\n",
    "\n",
    "cnx = mysql.connector.connect(user='admin', password='schoolcafe',\n",
    "                              host='anand-lonkar.mynetgear.com',\n",
    "                              database='menudb')\n"
   ]
  },
  {
   "cell_type": "code",
   "execution_count": 45,
   "metadata": {},
   "outputs": [
    {
     "ename": "AttributeError",
     "evalue": "'datetime.datetime' object has no attribute 'striptime'",
     "output_type": "error",
     "traceback": [
      "\u001b[1;31m---------------------------------------------------------------------------\u001b[0m",
      "\u001b[1;31mAttributeError\u001b[0m                            Traceback (most recent call last)",
      "\u001b[1;32m<ipython-input-45-aa64c04707fe>\u001b[0m in \u001b[0;36m<module>\u001b[1;34m\u001b[0m\n\u001b[0;32m     34\u001b[0m \u001b[1;32mimport\u001b[0m \u001b[0mdatetime\u001b[0m\u001b[1;33m\u001b[0m\u001b[1;33m\u001b[0m\u001b[0m\n\u001b[0;32m     35\u001b[0m \u001b[1;33m\u001b[0m\u001b[0m\n\u001b[1;32m---> 36\u001b[1;33m \u001b[0mquery\u001b[0m \u001b[1;33m=\u001b[0m \u001b[1;34m\"select entree from menu_table where idmenu_table = {}\"\u001b[0m\u001b[1;33m.\u001b[0m\u001b[0mformat\u001b[0m\u001b[1;33m(\u001b[0m \u001b[0mdatetime\u001b[0m\u001b[1;33m.\u001b[0m\u001b[0mdatetime\u001b[0m\u001b[1;33m.\u001b[0m\u001b[0mnow\u001b[0m\u001b[1;33m(\u001b[0m\u001b[1;33m)\u001b[0m\u001b[1;33m.\u001b[0m\u001b[0mstriptime\u001b[0m\u001b[1;33m)\u001b[0m\u001b[1;33m\u001b[0m\u001b[1;33m\u001b[0m\u001b[0m\n\u001b[0m\u001b[0;32m     37\u001b[0m \u001b[1;33m\u001b[0m\u001b[0m\n\u001b[0;32m     38\u001b[0m \u001b[0mprint\u001b[0m\u001b[1;33m(\u001b[0m\u001b[0mquery\u001b[0m\u001b[1;33m)\u001b[0m\u001b[1;33m\u001b[0m\u001b[1;33m\u001b[0m\u001b[0m\n",
      "\u001b[1;31mAttributeError\u001b[0m: 'datetime.datetime' object has no attribute 'striptime'"
     ]
    }
   ],
   "source": [
    "cursor = cnx.cursor(dictionary=True)\n",
    "\n",
    "\n",
    "\n",
    "query = (\"\"\"\n",
    "INSERT INTO menudb.menu_table\n",
    "(\n",
    "State,\n",
    "ISDName,\n",
    "SchoolName,\n",
    "Date,\n",
    "FoodType,\n",
    "Entree,\n",
    "Vegetables,\n",
    "Grain,\n",
    "Milk,\n",
    "Condiments,\n",
    "Meats)\n",
    "VALUES\n",
    "(\n",
    "'TX',\n",
    "'FRISCO ISD',\n",
    "'McSpedden Elementary',\n",
    "'2009-12-27',\n",
    "'Lunch',\n",
    "'Chicken Sandwich',\n",
    "'Carrot Rings',\n",
    "'Multi grain  bread',\n",
    "'Chocolate Milk',\n",
    "'Ketchup',\n",
    "'No Meats')\n",
    "\"\"\")\n",
    "\n",
    "import datetime\n",
    "    \n",
    "query = \"select entree from menu_table where idmenu_table = {}\".format( datetime.datetime.now().striptime)\n",
    "\n",
    "print(query)\n",
    "#hire_start = datetime.date(1999, 1, 1)\n",
    "#hire_end = datetime.date(1999, 12, 31)\n",
    "\n",
    "#cursor.execute(query, (hire_start, hire_end))\n",
    "cursor.execute(query)\n",
    "\n",
    "result = cursor.fetchone()\n",
    "entree= result[\"entree\"]\n",
    "    \n",
    "speak_output = \"Todays menu is \"\n",
    "speak_output = speak_output + entree\n",
    "\n",
    "print(speak_output)\n",
    "    \n",
    "#for (first_name, last_name, hire_date) in cursor:\n",
    "#  print(\"{}, {} was hired on {:%d %b %Y}\".format(\n",
    "#    last_name, first_name, hire_date))\n",
    "#for (entree) in cursor:\n",
    "#  print(\"Entree for today is {%s}\".format(entree))\n"
   ]
  },
  {
   "cell_type": "code",
   "execution_count": null,
   "metadata": {},
   "outputs": [],
   "source": [
    "#cnx.commit()\n",
    "cursor.close()\n",
    "cnx.close()"
   ]
  }
 ],
 "metadata": {
  "kernelspec": {
   "display_name": "Python 3",
   "language": "python",
   "name": "python3"
  },
  "language_info": {
   "codemirror_mode": {
    "name": "ipython",
    "version": 3
   },
   "file_extension": ".py",
   "mimetype": "text/x-python",
   "name": "python",
   "nbconvert_exporter": "python",
   "pygments_lexer": "ipython3",
   "version": "3.6.9"
  }
 },
 "nbformat": 4,
 "nbformat_minor": 2
}
