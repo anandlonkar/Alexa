{
 "cells": [
  {
   "cell_type": "code",
   "execution_count": 1,
   "metadata": {},
   "outputs": [
    {
     "ename": "ModuleNotFoundError",
     "evalue": "No module named 'scrapy.spider'",
     "output_type": "error",
     "traceback": [
      "\u001b[1;31m---------------------------------------------------------------------------\u001b[0m",
      "\u001b[1;31mModuleNotFoundError\u001b[0m                       Traceback (most recent call last)",
      "\u001b[1;32m<ipython-input-1-0beebca01005>\u001b[0m in \u001b[0;36m<module>\u001b[1;34m\u001b[0m\n\u001b[1;32m----> 1\u001b[1;33m \u001b[1;32mfrom\u001b[0m \u001b[0mscrapy\u001b[0m\u001b[1;33m.\u001b[0m\u001b[0mspider\u001b[0m \u001b[1;32mimport\u001b[0m \u001b[0mBaseSpider\u001b[0m\u001b[1;33m\u001b[0m\u001b[1;33m\u001b[0m\u001b[0m\n\u001b[0m\u001b[0;32m      2\u001b[0m \u001b[1;32mfrom\u001b[0m \u001b[0mscrapy\u001b[0m\u001b[1;33m.\u001b[0m\u001b[0mselector\u001b[0m \u001b[1;32mimport\u001b[0m  \u001b[0mSelector\u001b[0m\u001b[1;33m\u001b[0m\u001b[1;33m\u001b[0m\u001b[0m\n\u001b[0;32m      3\u001b[0m \u001b[1;32mfrom\u001b[0m \u001b[0mscrapy\u001b[0m\u001b[1;33m.\u001b[0m\u001b[0mhttp\u001b[0m \u001b[1;32mimport\u001b[0m \u001b[0mFormRequest\u001b[0m\u001b[1;33m,\u001b[0m \u001b[0mRequest\u001b[0m\u001b[1;33m\u001b[0m\u001b[1;33m\u001b[0m\u001b[0m\n\u001b[0;32m      4\u001b[0m \u001b[1;32mimport\u001b[0m  \u001b[0mlogging\u001b[0m\u001b[1;33m\u001b[0m\u001b[1;33m\u001b[0m\u001b[0m\n\u001b[0;32m      5\u001b[0m \u001b[1;32mfrom\u001b[0m \u001b[0mscrapy\u001b[0m \u001b[1;32mimport\u001b[0m \u001b[0mField\u001b[0m\u001b[1;33m\u001b[0m\u001b[1;33m\u001b[0m\u001b[0m\n",
      "\u001b[1;31mModuleNotFoundError\u001b[0m: No module named 'scrapy.spider'"
     ]
    }
   ],
   "source": [
    "from scrapy.spider import BaseSpider\n",
    "from scrapy.selector import  Selector\n",
    "from scrapy.http import FormRequest, Request\n",
    "import  logging\n",
    "from scrapy import Field\n",
    "from scrapy import Item\n"
   ]
  },
  {
   "cell_type": "code",
   "execution_count": null,
   "metadata": {},
   "outputs": [],
   "source": [
    "\n",
    "\n",
    "class Product(Item):\n",
    "    Test =  Field()\n",
    "\n",
    "\n",
    "class LoginSpider(BaseSpider):\n",
    "    name = 'super'\n",
    "    start_urls = ['https://accounts.google.com/ServiceLogin?service=mail&continue=https://mail.google.com/mail/&hl=fr#identifier']\n",
    "\n",
    "    def parse(self, response):\n",
    "        return [FormRequest.from_response(response,\n",
    "                    formdata={'Email': 'foo@gmail.com', 'Passwd': 'pass'},\n",
    "\n",
    "                    callback=self.after_login)]\n",
    "\n",
    "    def after_login(self, response):\n",
    "      if \"authentication failed\" in response.body:\n",
    "        self.log(\"Login failed\", level=logging.ERROR)\n",
    "        return\n",
    "    # We've successfully authenticated, let's have some fun!\n",
    "    print(\"Login Successful!!\")\n",
    "    return Request(url=\"https://mail.google.com/mail/u/0/#inbox\",\n",
    "               callback=self.parse_tastypage)\n",
    "\n",
    "\n",
    "    def parse_tastypage(self, response):\n",
    "      item = Product()\n",
    "      item [\"Test\"] = response.xpath(\"//h1/text()\").extract()\n",
    "      yield item"
   ]
  }
 ],
 "metadata": {
  "kernelspec": {
   "display_name": "Python 3",
   "language": "python",
   "name": "python3"
  },
  "language_info": {
   "codemirror_mode": {
    "name": "ipython",
    "version": 3
   },
   "file_extension": ".py",
   "mimetype": "text/x-python",
   "name": "python",
   "nbconvert_exporter": "python",
   "pygments_lexer": "ipython3",
   "version": "3.6.9"
  }
 },
 "nbformat": 4,
 "nbformat_minor": 2
}
